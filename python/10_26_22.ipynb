{
  "nbformat": 4,
  "nbformat_minor": 0,
  "metadata": {
    "colab": {
      "provenance": [],
      "collapsed_sections": []
    },
    "kernelspec": {
      "name": "python3",
      "display_name": "Python 3"
    },
    "language_info": {
      "name": "python"
    }
  },
  "cells": [
    {
      "cell_type": "code",
      "execution_count": 1,
      "metadata": {
        "colab": {
          "base_uri": "https://localhost:8080/"
        },
        "id": "qsvrjimGwK3A",
        "outputId": "2e1a59ae-3082-4ef3-f0ba-d42c2a5778f5"
      },
      "outputs": [
        {
          "output_type": "stream",
          "name": "stdout",
          "text": [
            "Sum from 11 to 23 is 198\n",
            "Sum from 36 to 48 is 498\n",
            "Sum from 53 to 67 is 833\n"
          ]
        }
      ],
      "source": [
        "def sum(i1, i2):\n",
        "    result = 0\n",
        "    for i in range(i1, i2):\n",
        "        result += i\n",
        "    return result\n",
        "\n",
        "def main():\n",
        "    print(\"Sum from 11 to 23 is\", sum(11, 23)) \n",
        "    print(\"Sum from 36 to 48 is\", sum(36, 48))\n",
        "    print(\"Sum from 53 to 67 is\", sum(53, 67))\n",
        "\n",
        "main() # Call the main function"
      ]
    }
  ]
}