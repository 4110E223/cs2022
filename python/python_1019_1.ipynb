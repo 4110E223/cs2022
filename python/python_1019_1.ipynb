{
  "nbformat": 4,
  "nbformat_minor": 0,
  "metadata": {
    "colab": {
      "provenance": [],
      "collapsed_sections": []
    },
    "kernelspec": {
      "name": "python3",
      "display_name": "Python 3"
    },
    "language_info": {
      "name": "python"
    }
  },
  "cells": [
    {
      "cell_type": "markdown",
      "source": [
        "# 1019 4110E223"
      ],
      "metadata": {
        "id": "jN12EuodbIyp"
      }
    },
    {
      "cell_type": "markdown",
      "source": [
        "Python Conditions and If statements"
      ],
      "metadata": {
        "id": "12prW7QpbaKS"
      }
    },
    {
      "cell_type": "markdown",
      "source": [
        "Exercise 1: Print \"Hello, Evan\" if a is greater than b."
      ],
      "metadata": {
        "id": "LeQh9bnEbkfI"
      }
    },
    {
      "cell_type": "code",
      "execution_count": 2,
      "metadata": {
        "colab": {
          "base_uri": "https://localhost:8080/"
        },
        "id": "4UmJlMfVZIXR",
        "outputId": "718cd920-a272-4b06-f795-ebc69171ff7f"
      },
      "outputs": [
        {
          "output_type": "stream",
          "name": "stdout",
          "text": [
            "Hello, K\n"
          ]
        }
      ],
      "source": [
        "a = 50\n",
        "b = 10\n",
        "if a > b:\n",
        "  print(\"Hello, K\")"
      ]
    },
    {
      "cell_type": "markdown",
      "source": [
        "Exercise 2: Print \"Hello, K\" if a is not equal to b. "
      ],
      "metadata": {
        "id": "EDwYc5Tec0Pd"
      }
    },
    {
      "cell_type": "code",
      "source": [
        "a = 50\n",
        "b = 10\n",
        "if a != b:\n",
        "  print(\"Hello, K\")"
      ],
      "metadata": {
        "colab": {
          "base_uri": "https://localhost:8080/"
        },
        "id": "4uAxaTQxdF-J",
        "outputId": "841f68e4-2766-4fbd-aaf0-dc7864d86887"
      },
      "execution_count": 3,
      "outputs": [
        {
          "output_type": "stream",
          "name": "stdout",
          "text": [
            "Hello, K\n"
          ]
        }
      ]
    },
    {
      "cell_type": "markdown",
      "source": [
        "Exercise 3: Print \"Yes\" if a is equal to b, otherwise print \"No\"."
      ],
      "metadata": {
        "id": "0EKxbfWcdyDX"
      }
    },
    {
      "cell_type": "code",
      "source": [
        "a = 50\n",
        "b = 10\n",
        "if a == b:\n",
        "  print(\"Yes\")\n",
        "else:\n",
        "  print(\"No\")"
      ],
      "metadata": {
        "colab": {
          "base_uri": "https://localhost:8080/"
        },
        "id": "a1UKWdKKeoIo",
        "outputId": "18604061-d03f-47a6-f2bc-801d8024b4af"
      },
      "execution_count": 5,
      "outputs": [
        {
          "output_type": "stream",
          "name": "stdout",
          "text": [
            "No\n"
          ]
        }
      ]
    },
    {
      "cell_type": "markdown",
      "source": [
        "Exercise 4: Print \"1\" if a is equal to b, print \"2\" if a is greater than b, otherwise print \"3\"."
      ],
      "metadata": {
        "id": "UndFPRrOfijF"
      }
    },
    {
      "cell_type": "code",
      "source": [
        "a = 50\n",
        "b = 10\n",
        "if a == b:\n",
        "  print(\"1\")\n",
        "elif a > b:\n",
        "  print(\"2\")\n",
        "else:\n",
        "  print(\"3\")"
      ],
      "metadata": {
        "colab": {
          "base_uri": "https://localhost:8080/"
        },
        "id": "KoafeiPFgnCA",
        "outputId": "0ff24ce4-5da9-41c7-bda1-3d6b4f735f3b"
      },
      "execution_count": 6,
      "outputs": [
        {
          "output_type": "stream",
          "name": "stdout",
          "text": [
            "2\n"
          ]
        }
      ]
    },
    {
      "cell_type": "markdown",
      "source": [
        "Exercise 5: Print \"Hello\" if a is equal to b, and c is equal to d."
      ],
      "metadata": {
        "id": "whvBppSPjw4B"
      }
    },
    {
      "cell_type": "code",
      "source": [
        "if a == b and c == d:\n",
        "  print(\"Hello\")"
      ],
      "metadata": {
        "id": "470pvz9XkRP7"
      },
      "execution_count": 9,
      "outputs": []
    },
    {
      "cell_type": "markdown",
      "source": [
        "Exercise 6: Print \"Hello\" if a is equal to b, or if c is equal to d."
      ],
      "metadata": {
        "id": "NzBmRNZLl3i3"
      }
    },
    {
      "cell_type": "code",
      "source": [
        "a = 50\n",
        "b = 30\n",
        "c = 20\n",
        "d = 20\n",
        "if a == b or c == d:\n",
        "  print(\"Hello\")"
      ],
      "metadata": {
        "colab": {
          "base_uri": "https://localhost:8080/"
        },
        "id": "T5OR-QklmB9b",
        "outputId": "98fd48ec-37f2-4df6-da6d-9f93be9794dc"
      },
      "execution_count": 12,
      "outputs": [
        {
          "output_type": "stream",
          "name": "stdout",
          "text": [
            "Hello\n"
          ]
        }
      ]
    },
    {
      "cell_type": "markdown",
      "source": [
        "Exercise 7: This example misses indentations to be correct"
      ],
      "metadata": {
        "id": "2ZgItKAIsFWB"
      }
    },
    {
      "cell_type": "markdown",
      "source": [
        "Insert the missing indentations to make the code correct."
      ],
      "metadata": {
        "id": "yvAWnFlwuVos"
      }
    },
    {
      "cell_type": "code",
      "source": [
        "if 5 > 2:\n",
        "  print(\"Five is greater than two!\")"
      ],
      "metadata": {
        "colab": {
          "base_uri": "https://localhost:8080/"
        },
        "id": "ztnh9se9vL-6",
        "outputId": "b207e462-01af-4cbe-fa0d-1ae5418403c4"
      },
      "execution_count": 13,
      "outputs": [
        {
          "output_type": "stream",
          "name": "stdout",
          "text": [
            "Five is greater than two!\n"
          ]
        }
      ]
    },
    {
      "cell_type": "markdown",
      "source": [
        "Exercise 8: Use the correct short hand syntax to put the following statement on one line:"
      ],
      "metadata": {
        "id": "23b8grGbzMwb"
      }
    },
    {
      "cell_type": "code",
      "source": [
        "if 5 > 2: print(\"Five is greater than two!\")"
      ],
      "metadata": {
        "colab": {
          "base_uri": "https://localhost:8080/"
        },
        "id": "BIBoZ1v6zXnV",
        "outputId": "b6f7b7ce-2b81-4217-e78b-0233e0e8a3ec"
      },
      "execution_count": 14,
      "outputs": [
        {
          "output_type": "stream",
          "name": "stdout",
          "text": [
            "Five is greater than two!\n"
          ]
        }
      ]
    },
    {
      "cell_type": "markdown",
      "source": [
        "Exercise 9: Use the correct short hand syntax to write the following conditional expression in one line:"
      ],
      "metadata": {
        "id": "H4ugwam0zlCa"
      }
    },
    {
      "cell_type": "code",
      "source": [
        "print(\"Yes\") if 5 > 2 else print(\"No\")"
      ],
      "metadata": {
        "colab": {
          "base_uri": "https://localhost:8080/"
        },
        "id": "mjEH2bDFzyf7",
        "outputId": "bf3a25b2-2b60-4c61-9086-cda0ef6c7b4e"
      },
      "execution_count": 15,
      "outputs": [
        {
          "output_type": "stream",
          "name": "stdout",
          "text": [
            "Yes\n"
          ]
        }
      ]
    }
  ]
}