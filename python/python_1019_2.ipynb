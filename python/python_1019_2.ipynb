{
  "nbformat": 4,
  "nbformat_minor": 0,
  "metadata": {
    "colab": {
      "provenance": [],
      "collapsed_sections": []
    },
    "kernelspec": {
      "name": "python3",
      "display_name": "Python 3"
    },
    "language_info": {
      "name": "python"
    }
  },
  "cells": [
    {
      "cell_type": "markdown",
      "source": [
        "1019 4110E223"
      ],
      "metadata": {
        "id": "bIG-N9Rh17x6"
      }
    },
    {
      "cell_type": "markdown",
      "source": [
        "For Loop"
      ],
      "metadata": {
        "id": "xT31RopS2KsK"
      }
    },
    {
      "cell_type": "markdown",
      "source": [
        "Exercise 1: Print each fruit in a fruit list."
      ],
      "metadata": {
        "id": "bqeihm1V2R0k"
      }
    },
    {
      "cell_type": "code",
      "execution_count": 1,
      "metadata": {
        "colab": {
          "base_uri": "https://localhost:8080/"
        },
        "id": "CA6t1eAJ1Ovn",
        "outputId": "9fd51e45-d4aa-4c62-a053-1b3e472ba2ea"
      },
      "outputs": [
        {
          "output_type": "stream",
          "name": "stdout",
          "text": [
            "pineapple\n",
            "apple\n",
            "banana\n",
            "lemon\n",
            "mango\n"
          ]
        }
      ],
      "source": [
        "fruits = [\"pineapple\", \"apple\", \"banana\", \"lemon\", \"mango\"]\n",
        "for x in fruits:\n",
        "  print(x)"
      ]
    }
  ]
}